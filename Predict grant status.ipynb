{
  "nbformat": 4,
  "nbformat_minor": 0,
  "metadata": {
    "colab": {
      "name": "Copy of Assign_2.ipynb",
      "provenance": [],
      "collapsed_sections": []
    },
    "kernelspec": {
      "name": "python3",
      "display_name": "Python 3"
    },
    "language_info": {
      "name": "python"
    }
  },
  "cells": [
    {
      "cell_type": "code",
      "execution_count": null,
      "metadata": {
        "id": "y6RYlt5OW4qz"
      },
      "outputs": [],
      "source": [
        "import numpy as np\n",
        "import pandas as pd\n",
        "import sklearn\n",
        "import scipy\n",
        "import matplotlib.pyplot as plt\n",
        "import seaborn as sns\n",
        "from sklearn.metrics import confusion_matrix,classification_report,accuracy_score"
      ]
    },
    {
      "cell_type": "code",
      "source": [
        "df=pd.read_csv('/content/sample_data/unimelb_training.csv')"
      ],
      "metadata": {
        "colab": {
          "base_uri": "https://localhost:8080/"
        },
        "id": "S4yL_ReTXXI2",
        "outputId": "e281e292-47ec-40b6-fca1-2712ff9c85f9"
      },
      "execution_count": null,
      "outputs": [
        {
          "output_type": "stream",
          "name": "stderr",
          "text": [
            "/usr/local/lib/python3.7/dist-packages/IPython/core/interactiveshell.py:3326: DtypeWarning: Columns (90,105,119,120,123,124,132,134,135,138,139,147,149,150,153,154,162,164,165,168,169,177,179,183,184,192,194,198,199,207,209,213,214,224,237,239,244) have mixed types.Specify dtype option on import or set low_memory=False.\n",
            "  exec(code_obj, self.user_global_ns, self.user_ns)\n"
          ]
        }
      ]
    },
    {
      "cell_type": "code",
      "source": [
        "# from google.colab import drive\n",
        "# drive.mount('/content/sample_data/unimelb_training.csv')"
      ],
      "metadata": {
        "id": "RRX4KxzS-EW4"
      },
      "execution_count": null,
      "outputs": []
    },
    {
      "cell_type": "code",
      "source": [
        "# df.head(10)"
      ],
      "metadata": {
        "id": "eRDJbE68XjDK"
      },
      "execution_count": null,
      "outputs": []
    },
    {
      "cell_type": "code",
      "source": [
        "# df['Role.1'].value_counts()"
      ],
      "metadata": {
        "id": "MfCzt1wRGX9q"
      },
      "execution_count": null,
      "outputs": []
    },
    {
      "cell_type": "code",
      "source": [
        "Approval=df[df['Grant.Status']!=0]\n",
        "# Approval.head()"
      ],
      "metadata": {
        "id": "mViAM921MKBx"
      },
      "execution_count": null,
      "outputs": []
    },
    {
      "cell_type": "code",
      "source": [
        "# df[['Role.1', 'Grant.Status']].groupby(['Role.1'], as_index=False).mean().sort_values(by='Grant.Status', ascending=False)"
      ],
      "metadata": {
        "id": "lktSEH4LOPX3"
      },
      "execution_count": null,
      "outputs": []
    },
    {
      "cell_type": "code",
      "source": [
        "# plt.figure(figsize=(6,6))\n",
        "# plt.pie(list(Approval['Role.1'].value_counts()),labels=list(Approval['Role.1'].value_counts().keys()),autopct='%0.1f%%')\n",
        "# plt.show()"
      ],
      "metadata": {
        "id": "WO8fr0bILXXi"
      },
      "execution_count": null,
      "outputs": []
    },
    {
      "cell_type": "code",
      "source": [
        "# df['Country.of.Birth.1'].value_counts()"
      ],
      "metadata": {
        "id": "WlWaUqBzG00F"
      },
      "execution_count": null,
      "outputs": []
    },
    {
      "cell_type": "code",
      "source": [
        "# plt.figure(figsize=(6,6))\n",
        "# plt.pie(list(Approval['Country.of.Birth.1'].value_counts()),labels=list(Approval['Country.of.Birth.1'].value_counts().keys()),autopct='%0.1f%%')\n",
        "# plt.show()"
      ],
      "metadata": {
        "id": "Iob1krcEOViF"
      },
      "execution_count": null,
      "outputs": []
    },
    {
      "cell_type": "code",
      "source": [
        "# df[['Country.of.Birth.1', 'Grant.Status']].groupby(['Country.of.Birth.1'], as_index=False).mean().sort_values(by='Grant.Status', ascending=False)"
      ],
      "metadata": {
        "id": "Sv7d0ezSS73l"
      },
      "execution_count": null,
      "outputs": []
    },
    {
      "cell_type": "code",
      "source": [
        "# df['Year.of.Birth.1'].value_counts()"
      ],
      "metadata": {
        "id": "-eqhO1ZPG1me"
      },
      "execution_count": null,
      "outputs": []
    },
    {
      "cell_type": "code",
      "source": [
        "# df[['Year.of.Birth.1', 'Grant.Status']].groupby(['Year.of.Birth.1'], as_index=False).mean().sort_values(by='Grant.Status', ascending=False)"
      ],
      "metadata": {
        "id": "bGMwA6icTSJJ"
      },
      "execution_count": null,
      "outputs": []
    },
    {
      "cell_type": "code",
      "source": [
        "# df.info()"
      ],
      "metadata": {
        "id": "r44hki4YXoue"
      },
      "execution_count": null,
      "outputs": []
    },
    {
      "cell_type": "code",
      "source": [
        "# df.columns"
      ],
      "metadata": {
        "id": "X9ZSL8ieY9_Z"
      },
      "execution_count": null,
      "outputs": []
    },
    {
      "cell_type": "code",
      "source": [
        "# df['Grant.Status'].value_counts()"
      ],
      "metadata": {
        "id": "jSQuHGFMcaxG"
      },
      "execution_count": null,
      "outputs": []
    },
    {
      "cell_type": "code",
      "source": [
        "# df.isnull().sum()"
      ],
      "metadata": {
        "id": "12yNQgX3ZYy9"
      },
      "execution_count": null,
      "outputs": []
    },
    {
      "cell_type": "code",
      "source": [
        "# df.shape"
      ],
      "metadata": {
        "id": "dZFm1o_eaykg"
      },
      "execution_count": null,
      "outputs": []
    },
    {
      "cell_type": "code",
      "source": [
        "#features to exclude from analysis\n",
        "features = ['Grant.Application.ID', 'Year.of.Birth.1', 'Start.date','Unnamed: 251', 'Country.of.Birth.1', 'Dept.No..1', 'Dept.No..1', 'A..1', 'A.1', 'B.1', 'C.1']\n",
        "for col in range(1, 16):\n",
        "    if 'No..of.Years.in.Uni.at.Time.of.Grant.'+ str(col) in list(df.columns):\n",
        "        features.append('No..of.Years.in.Uni.at.Time.of.Grant.'+str(col))\n",
        "\n",
        "#removing Nan data if greater than 3000\n",
        "for col in list(df.columns):\n",
        "    if df[col].isnull().sum() > 3000:\n",
        "        features.append(col)"
      ],
      "metadata": {
        "id": "JfHP-XKx57he"
      },
      "execution_count": null,
      "outputs": []
    },
    {
      "cell_type": "code",
      "source": [
        "df = df.drop(features, axis=1)"
      ],
      "metadata": {
        "id": "Odyvle-dZXA-"
      },
      "execution_count": null,
      "outputs": []
    },
    {
      "cell_type": "code",
      "source": [
        "df.shape"
      ],
      "metadata": {
        "colab": {
          "base_uri": "https://localhost:8080/"
        },
        "id": "16fZwd5GusvT",
        "outputId": "5cbffdfc-8bc4-408b-c219-fc2f2cf2803a"
      },
      "execution_count": null,
      "outputs": [
        {
          "output_type": "execute_result",
          "data": {
            "text/plain": [
              "(8708, 28)"
            ]
          },
          "metadata": {},
          "execution_count": 21
        }
      ]
    },
    {
      "cell_type": "code",
      "source": [
        "# df"
      ],
      "metadata": {
        "id": "3S6Ay9I8vBvx"
      },
      "execution_count": null,
      "outputs": []
    },
    {
      "cell_type": "code",
      "source": [
        "# df.describe()"
      ],
      "metadata": {
        "id": "ODwPnMPSvC71"
      },
      "execution_count": null,
      "outputs": []
    },
    {
      "cell_type": "code",
      "source": [
        "# df.columns"
      ],
      "metadata": {
        "id": "yIvicHgiveNv"
      },
      "execution_count": null,
      "outputs": []
    },
    {
      "cell_type": "code",
      "source": [
        "features = ['RFCD.Code.4', 'RFCD.Percentage.4','RFCD.Code.5', 'RFCD.Percentage.5','SEO.Code.4','SEO.Percentage.4','SEO.Code.5','SEO.Percentage.4']\n",
        "df = df.drop(features, axis=1)"
      ],
      "metadata": {
        "id": "R8m8TN-yvtj7"
      },
      "execution_count": null,
      "outputs": []
    },
    {
      "cell_type": "code",
      "source": [
        "df.info()"
      ],
      "metadata": {
        "colab": {
          "base_uri": "https://localhost:8080/"
        },
        "id": "mtlKzgQMvuZY",
        "outputId": "89ecf2b3-64cb-4c5c-a09c-9e8afae1f8a4"
      },
      "execution_count": null,
      "outputs": [
        {
          "output_type": "stream",
          "name": "stdout",
          "text": [
            "<class 'pandas.core.frame.DataFrame'>\n",
            "RangeIndex: 8708 entries, 0 to 8707\n",
            "Data columns (total 21 columns):\n",
            " #   Column                          Non-Null Count  Dtype  \n",
            "---  ------                          --------------  -----  \n",
            " 0   Grant.Status                    8708 non-null   int64  \n",
            " 1   Sponsor.Code                    7796 non-null   object \n",
            " 2   Grant.Category.Code             7796 non-null   object \n",
            " 3   RFCD.Code.1                     8074 non-null   float64\n",
            " 4   RFCD.Percentage.1               8074 non-null   float64\n",
            " 5   RFCD.Code.2                     8074 non-null   float64\n",
            " 6   RFCD.Percentage.2               8074 non-null   float64\n",
            " 7   RFCD.Code.3                     8074 non-null   float64\n",
            " 8   RFCD.Percentage.3               8074 non-null   float64\n",
            " 9   SEO.Code.1                      8044 non-null   float64\n",
            " 10  SEO.Percentage.1                8044 non-null   float64\n",
            " 11  SEO.Code.2                      8044 non-null   float64\n",
            " 12  SEO.Percentage.2                8044 non-null   float64\n",
            " 13  SEO.Code.3                      8044 non-null   float64\n",
            " 14  SEO.Percentage.3                8044 non-null   float64\n",
            " 15  SEO.Percentage.5                8044 non-null   float64\n",
            " 16  Person.ID.1                     8185 non-null   float64\n",
            " 17  Role.1                          8610 non-null   object \n",
            " 18  Faculty.No..1                   7835 non-null   float64\n",
            " 19  Number.of.Successful.Grant.1    8185 non-null   float64\n",
            " 20  Number.of.Unsuccessful.Grant.1  8185 non-null   float64\n",
            "dtypes: float64(17), int64(1), object(3)\n",
            "memory usage: 1.4+ MB\n"
          ]
        }
      ]
    },
    {
      "cell_type": "code",
      "source": [
        "df.columns"
      ],
      "metadata": {
        "id": "dHA2s7jWqGNm",
        "outputId": "333189d5-c637-4816-ba73-4df74efa96d0",
        "colab": {
          "base_uri": "https://localhost:8080/"
        }
      },
      "execution_count": null,
      "outputs": [
        {
          "output_type": "execute_result",
          "data": {
            "text/plain": [
              "Index(['Grant.Status', 'Sponsor.Code', 'Grant.Category.Code', 'RFCD.Code.1',\n",
              "       'RFCD.Percentage.1', 'RFCD.Code.2', 'RFCD.Percentage.2', 'RFCD.Code.3',\n",
              "       'RFCD.Percentage.3', 'SEO.Code.1', 'SEO.Percentage.1', 'SEO.Code.2',\n",
              "       'SEO.Percentage.2', 'SEO.Code.3', 'SEO.Percentage.3',\n",
              "       'SEO.Percentage.5', 'Person.ID.1', 'Role.1', 'Faculty.No..1',\n",
              "       'Number.of.Successful.Grant.1', 'Number.of.Unsuccessful.Grant.1'],\n",
              "      dtype='object')"
            ]
          },
          "metadata": {},
          "execution_count": 27
        }
      ]
    },
    {
      "cell_type": "code",
      "source": [
        "df"
      ],
      "metadata": {
        "id": "wOSgW7BRqL9R",
        "outputId": "ba9bd5e0-e6c1-48e5-c3f5-9da523f83b9e",
        "colab": {
          "base_uri": "https://localhost:8080/",
          "height": 488
        }
      },
      "execution_count": null,
      "outputs": [
        {
          "output_type": "execute_result",
          "data": {
            "text/plain": [
              "      Grant.Status Sponsor.Code Grant.Category.Code  RFCD.Code.1  \\\n",
              "0                1          NaN                 NaN     280199.0   \n",
              "1                1           2B                 10A     280103.0   \n",
              "2                1          29A                 10B     321004.0   \n",
              "3                1          40D                 10B     270602.0   \n",
              "4                0          59C                 10A     260500.0   \n",
              "...            ...          ...                 ...          ...   \n",
              "8703             1          21A                 50A     321028.0   \n",
              "8704             1          21A                 50A     340299.0   \n",
              "8705             0         137A                 30B          NaN   \n",
              "8706             1          21A                 50A     280210.0   \n",
              "8707             1          21A                 50A     321012.0   \n",
              "\n",
              "      RFCD.Percentage.1  RFCD.Code.2  RFCD.Percentage.2  RFCD.Code.3  \\\n",
              "0                 100.0          0.0                0.0          0.0   \n",
              "1                  30.0     280106.0               30.0     280203.0   \n",
              "2                  60.0     321216.0               40.0          0.0   \n",
              "3                  50.0     320602.0               50.0          0.0   \n",
              "4                  34.0     280000.0               33.0     290000.0   \n",
              "...                 ...          ...                ...          ...   \n",
              "8703              100.0          0.0                0.0          0.0   \n",
              "8704               50.0     390114.0               50.0          0.0   \n",
              "8705                NaN          NaN                NaN          NaN   \n",
              "8706               40.0     239901.0               40.0     280206.0   \n",
              "8707               70.0     321005.0               30.0          0.0   \n",
              "\n",
              "      RFCD.Percentage.3  SEO.Code.1  ...  SEO.Code.2  SEO.Percentage.2  \\\n",
              "0                   0.0    700299.0  ...         0.0               0.0   \n",
              "1                  40.0    700103.0  ...    700102.0              50.0   \n",
              "2                   0.0    730105.0  ...    730207.0              40.0   \n",
              "3                   0.0    730106.0  ...    730201.0              30.0   \n",
              "4                  33.0    770199.0  ...         0.0               0.0   \n",
              "...                 ...         ...  ...         ...               ...   \n",
              "8703                0.0    730114.0  ...         0.0               0.0   \n",
              "8704                0.0    720299.0  ...         0.0               0.0   \n",
              "8705                NaN         NaN  ...         NaN               NaN   \n",
              "8706               20.0    671303.0  ...    700302.0              30.0   \n",
              "8707                0.0    730106.0  ...    730115.0              50.0   \n",
              "\n",
              "      SEO.Code.3  SEO.Percentage.3  SEO.Percentage.5  Person.ID.1  \\\n",
              "0            0.0               0.0               0.0      40572.0   \n",
              "1            0.0               0.0               0.0       9067.0   \n",
              "2            0.0               0.0               0.0       5967.0   \n",
              "3            0.0               0.0               0.0      78782.0   \n",
              "4            0.0               0.0               0.0      13042.0   \n",
              "...          ...               ...               ...          ...   \n",
              "8703         0.0               0.0               0.0      20937.0   \n",
              "8704         0.0               0.0               0.0      64237.0   \n",
              "8705         NaN               NaN               NaN      68437.0   \n",
              "8706    780105.0              30.0               0.0      82722.0   \n",
              "8707         0.0               0.0               0.0       1797.0   \n",
              "\n",
              "                    Role.1 Faculty.No..1  Number.of.Successful.Grant.1  \\\n",
              "0       CHIEF_INVESTIGATOR          31.0                           0.0   \n",
              "1       CHIEF_INVESTIGATOR          25.0                           0.0   \n",
              "2       CHIEF_INVESTIGATOR          25.0                           0.0   \n",
              "3     PRINCIPAL_SUPERVISOR          25.0                           0.0   \n",
              "4       CHIEF_INVESTIGATOR          19.0                           0.0   \n",
              "...                    ...           ...                           ...   \n",
              "8703    CHIEF_INVESTIGATOR          25.0                           1.0   \n",
              "8704    CHIEF_INVESTIGATOR          13.0                           2.0   \n",
              "8705    CHIEF_INVESTIGATOR          19.0                           1.0   \n",
              "8706    CHIEF_INVESTIGATOR          19.0                           2.0   \n",
              "8707    CHIEF_INVESTIGATOR          25.0                           9.0   \n",
              "\n",
              "      Number.of.Unsuccessful.Grant.1  \n",
              "0                                0.0  \n",
              "1                                0.0  \n",
              "2                                0.0  \n",
              "3                                0.0  \n",
              "4                                0.0  \n",
              "...                              ...  \n",
              "8703                            11.0  \n",
              "8704                             0.0  \n",
              "8705                             3.0  \n",
              "8706                             1.0  \n",
              "8707                            26.0  \n",
              "\n",
              "[8708 rows x 21 columns]"
            ],
            "text/html": [
              "\n",
              "  <div id=\"df-0ad9dd96-2e49-42f6-a642-d2d04bb20b17\">\n",
              "    <div class=\"colab-df-container\">\n",
              "      <div>\n",
              "<style scoped>\n",
              "    .dataframe tbody tr th:only-of-type {\n",
              "        vertical-align: middle;\n",
              "    }\n",
              "\n",
              "    .dataframe tbody tr th {\n",
              "        vertical-align: top;\n",
              "    }\n",
              "\n",
              "    .dataframe thead th {\n",
              "        text-align: right;\n",
              "    }\n",
              "</style>\n",
              "<table border=\"1\" class=\"dataframe\">\n",
              "  <thead>\n",
              "    <tr style=\"text-align: right;\">\n",
              "      <th></th>\n",
              "      <th>Grant.Status</th>\n",
              "      <th>Sponsor.Code</th>\n",
              "      <th>Grant.Category.Code</th>\n",
              "      <th>RFCD.Code.1</th>\n",
              "      <th>RFCD.Percentage.1</th>\n",
              "      <th>RFCD.Code.2</th>\n",
              "      <th>RFCD.Percentage.2</th>\n",
              "      <th>RFCD.Code.3</th>\n",
              "      <th>RFCD.Percentage.3</th>\n",
              "      <th>SEO.Code.1</th>\n",
              "      <th>...</th>\n",
              "      <th>SEO.Code.2</th>\n",
              "      <th>SEO.Percentage.2</th>\n",
              "      <th>SEO.Code.3</th>\n",
              "      <th>SEO.Percentage.3</th>\n",
              "      <th>SEO.Percentage.5</th>\n",
              "      <th>Person.ID.1</th>\n",
              "      <th>Role.1</th>\n",
              "      <th>Faculty.No..1</th>\n",
              "      <th>Number.of.Successful.Grant.1</th>\n",
              "      <th>Number.of.Unsuccessful.Grant.1</th>\n",
              "    </tr>\n",
              "  </thead>\n",
              "  <tbody>\n",
              "    <tr>\n",
              "      <th>0</th>\n",
              "      <td>1</td>\n",
              "      <td>NaN</td>\n",
              "      <td>NaN</td>\n",
              "      <td>280199.0</td>\n",
              "      <td>100.0</td>\n",
              "      <td>0.0</td>\n",
              "      <td>0.0</td>\n",
              "      <td>0.0</td>\n",
              "      <td>0.0</td>\n",
              "      <td>700299.0</td>\n",
              "      <td>...</td>\n",
              "      <td>0.0</td>\n",
              "      <td>0.0</td>\n",
              "      <td>0.0</td>\n",
              "      <td>0.0</td>\n",
              "      <td>0.0</td>\n",
              "      <td>40572.0</td>\n",
              "      <td>CHIEF_INVESTIGATOR</td>\n",
              "      <td>31.0</td>\n",
              "      <td>0.0</td>\n",
              "      <td>0.0</td>\n",
              "    </tr>\n",
              "    <tr>\n",
              "      <th>1</th>\n",
              "      <td>1</td>\n",
              "      <td>2B</td>\n",
              "      <td>10A</td>\n",
              "      <td>280103.0</td>\n",
              "      <td>30.0</td>\n",
              "      <td>280106.0</td>\n",
              "      <td>30.0</td>\n",
              "      <td>280203.0</td>\n",
              "      <td>40.0</td>\n",
              "      <td>700103.0</td>\n",
              "      <td>...</td>\n",
              "      <td>700102.0</td>\n",
              "      <td>50.0</td>\n",
              "      <td>0.0</td>\n",
              "      <td>0.0</td>\n",
              "      <td>0.0</td>\n",
              "      <td>9067.0</td>\n",
              "      <td>CHIEF_INVESTIGATOR</td>\n",
              "      <td>25.0</td>\n",
              "      <td>0.0</td>\n",
              "      <td>0.0</td>\n",
              "    </tr>\n",
              "    <tr>\n",
              "      <th>2</th>\n",
              "      <td>1</td>\n",
              "      <td>29A</td>\n",
              "      <td>10B</td>\n",
              "      <td>321004.0</td>\n",
              "      <td>60.0</td>\n",
              "      <td>321216.0</td>\n",
              "      <td>40.0</td>\n",
              "      <td>0.0</td>\n",
              "      <td>0.0</td>\n",
              "      <td>730105.0</td>\n",
              "      <td>...</td>\n",
              "      <td>730207.0</td>\n",
              "      <td>40.0</td>\n",
              "      <td>0.0</td>\n",
              "      <td>0.0</td>\n",
              "      <td>0.0</td>\n",
              "      <td>5967.0</td>\n",
              "      <td>CHIEF_INVESTIGATOR</td>\n",
              "      <td>25.0</td>\n",
              "      <td>0.0</td>\n",
              "      <td>0.0</td>\n",
              "    </tr>\n",
              "    <tr>\n",
              "      <th>3</th>\n",
              "      <td>1</td>\n",
              "      <td>40D</td>\n",
              "      <td>10B</td>\n",
              "      <td>270602.0</td>\n",
              "      <td>50.0</td>\n",
              "      <td>320602.0</td>\n",
              "      <td>50.0</td>\n",
              "      <td>0.0</td>\n",
              "      <td>0.0</td>\n",
              "      <td>730106.0</td>\n",
              "      <td>...</td>\n",
              "      <td>730201.0</td>\n",
              "      <td>30.0</td>\n",
              "      <td>0.0</td>\n",
              "      <td>0.0</td>\n",
              "      <td>0.0</td>\n",
              "      <td>78782.0</td>\n",
              "      <td>PRINCIPAL_SUPERVISOR</td>\n",
              "      <td>25.0</td>\n",
              "      <td>0.0</td>\n",
              "      <td>0.0</td>\n",
              "    </tr>\n",
              "    <tr>\n",
              "      <th>4</th>\n",
              "      <td>0</td>\n",
              "      <td>59C</td>\n",
              "      <td>10A</td>\n",
              "      <td>260500.0</td>\n",
              "      <td>34.0</td>\n",
              "      <td>280000.0</td>\n",
              "      <td>33.0</td>\n",
              "      <td>290000.0</td>\n",
              "      <td>33.0</td>\n",
              "      <td>770199.0</td>\n",
              "      <td>...</td>\n",
              "      <td>0.0</td>\n",
              "      <td>0.0</td>\n",
              "      <td>0.0</td>\n",
              "      <td>0.0</td>\n",
              "      <td>0.0</td>\n",
              "      <td>13042.0</td>\n",
              "      <td>CHIEF_INVESTIGATOR</td>\n",
              "      <td>19.0</td>\n",
              "      <td>0.0</td>\n",
              "      <td>0.0</td>\n",
              "    </tr>\n",
              "    <tr>\n",
              "      <th>...</th>\n",
              "      <td>...</td>\n",
              "      <td>...</td>\n",
              "      <td>...</td>\n",
              "      <td>...</td>\n",
              "      <td>...</td>\n",
              "      <td>...</td>\n",
              "      <td>...</td>\n",
              "      <td>...</td>\n",
              "      <td>...</td>\n",
              "      <td>...</td>\n",
              "      <td>...</td>\n",
              "      <td>...</td>\n",
              "      <td>...</td>\n",
              "      <td>...</td>\n",
              "      <td>...</td>\n",
              "      <td>...</td>\n",
              "      <td>...</td>\n",
              "      <td>...</td>\n",
              "      <td>...</td>\n",
              "      <td>...</td>\n",
              "      <td>...</td>\n",
              "    </tr>\n",
              "    <tr>\n",
              "      <th>8703</th>\n",
              "      <td>1</td>\n",
              "      <td>21A</td>\n",
              "      <td>50A</td>\n",
              "      <td>321028.0</td>\n",
              "      <td>100.0</td>\n",
              "      <td>0.0</td>\n",
              "      <td>0.0</td>\n",
              "      <td>0.0</td>\n",
              "      <td>0.0</td>\n",
              "      <td>730114.0</td>\n",
              "      <td>...</td>\n",
              "      <td>0.0</td>\n",
              "      <td>0.0</td>\n",
              "      <td>0.0</td>\n",
              "      <td>0.0</td>\n",
              "      <td>0.0</td>\n",
              "      <td>20937.0</td>\n",
              "      <td>CHIEF_INVESTIGATOR</td>\n",
              "      <td>25.0</td>\n",
              "      <td>1.0</td>\n",
              "      <td>11.0</td>\n",
              "    </tr>\n",
              "    <tr>\n",
              "      <th>8704</th>\n",
              "      <td>1</td>\n",
              "      <td>21A</td>\n",
              "      <td>50A</td>\n",
              "      <td>340299.0</td>\n",
              "      <td>50.0</td>\n",
              "      <td>390114.0</td>\n",
              "      <td>50.0</td>\n",
              "      <td>0.0</td>\n",
              "      <td>0.0</td>\n",
              "      <td>720299.0</td>\n",
              "      <td>...</td>\n",
              "      <td>0.0</td>\n",
              "      <td>0.0</td>\n",
              "      <td>0.0</td>\n",
              "      <td>0.0</td>\n",
              "      <td>0.0</td>\n",
              "      <td>64237.0</td>\n",
              "      <td>CHIEF_INVESTIGATOR</td>\n",
              "      <td>13.0</td>\n",
              "      <td>2.0</td>\n",
              "      <td>0.0</td>\n",
              "    </tr>\n",
              "    <tr>\n",
              "      <th>8705</th>\n",
              "      <td>0</td>\n",
              "      <td>137A</td>\n",
              "      <td>30B</td>\n",
              "      <td>NaN</td>\n",
              "      <td>NaN</td>\n",
              "      <td>NaN</td>\n",
              "      <td>NaN</td>\n",
              "      <td>NaN</td>\n",
              "      <td>NaN</td>\n",
              "      <td>NaN</td>\n",
              "      <td>...</td>\n",
              "      <td>NaN</td>\n",
              "      <td>NaN</td>\n",
              "      <td>NaN</td>\n",
              "      <td>NaN</td>\n",
              "      <td>NaN</td>\n",
              "      <td>68437.0</td>\n",
              "      <td>CHIEF_INVESTIGATOR</td>\n",
              "      <td>19.0</td>\n",
              "      <td>1.0</td>\n",
              "      <td>3.0</td>\n",
              "    </tr>\n",
              "    <tr>\n",
              "      <th>8706</th>\n",
              "      <td>1</td>\n",
              "      <td>21A</td>\n",
              "      <td>50A</td>\n",
              "      <td>280210.0</td>\n",
              "      <td>40.0</td>\n",
              "      <td>239901.0</td>\n",
              "      <td>40.0</td>\n",
              "      <td>280206.0</td>\n",
              "      <td>20.0</td>\n",
              "      <td>671303.0</td>\n",
              "      <td>...</td>\n",
              "      <td>700302.0</td>\n",
              "      <td>30.0</td>\n",
              "      <td>780105.0</td>\n",
              "      <td>30.0</td>\n",
              "      <td>0.0</td>\n",
              "      <td>82722.0</td>\n",
              "      <td>CHIEF_INVESTIGATOR</td>\n",
              "      <td>19.0</td>\n",
              "      <td>2.0</td>\n",
              "      <td>1.0</td>\n",
              "    </tr>\n",
              "    <tr>\n",
              "      <th>8707</th>\n",
              "      <td>1</td>\n",
              "      <td>21A</td>\n",
              "      <td>50A</td>\n",
              "      <td>321012.0</td>\n",
              "      <td>70.0</td>\n",
              "      <td>321005.0</td>\n",
              "      <td>30.0</td>\n",
              "      <td>0.0</td>\n",
              "      <td>0.0</td>\n",
              "      <td>730106.0</td>\n",
              "      <td>...</td>\n",
              "      <td>730115.0</td>\n",
              "      <td>50.0</td>\n",
              "      <td>0.0</td>\n",
              "      <td>0.0</td>\n",
              "      <td>0.0</td>\n",
              "      <td>1797.0</td>\n",
              "      <td>CHIEF_INVESTIGATOR</td>\n",
              "      <td>25.0</td>\n",
              "      <td>9.0</td>\n",
              "      <td>26.0</td>\n",
              "    </tr>\n",
              "  </tbody>\n",
              "</table>\n",
              "<p>8708 rows × 21 columns</p>\n",
              "</div>\n",
              "      <button class=\"colab-df-convert\" onclick=\"convertToInteractive('df-0ad9dd96-2e49-42f6-a642-d2d04bb20b17')\"\n",
              "              title=\"Convert this dataframe to an interactive table.\"\n",
              "              style=\"display:none;\">\n",
              "        \n",
              "  <svg xmlns=\"http://www.w3.org/2000/svg\" height=\"24px\"viewBox=\"0 0 24 24\"\n",
              "       width=\"24px\">\n",
              "    <path d=\"M0 0h24v24H0V0z\" fill=\"none\"/>\n",
              "    <path d=\"M18.56 5.44l.94 2.06.94-2.06 2.06-.94-2.06-.94-.94-2.06-.94 2.06-2.06.94zm-11 1L8.5 8.5l.94-2.06 2.06-.94-2.06-.94L8.5 2.5l-.94 2.06-2.06.94zm10 10l.94 2.06.94-2.06 2.06-.94-2.06-.94-.94-2.06-.94 2.06-2.06.94z\"/><path d=\"M17.41 7.96l-1.37-1.37c-.4-.4-.92-.59-1.43-.59-.52 0-1.04.2-1.43.59L10.3 9.45l-7.72 7.72c-.78.78-.78 2.05 0 2.83L4 21.41c.39.39.9.59 1.41.59.51 0 1.02-.2 1.41-.59l7.78-7.78 2.81-2.81c.8-.78.8-2.07 0-2.86zM5.41 20L4 18.59l7.72-7.72 1.47 1.35L5.41 20z\"/>\n",
              "  </svg>\n",
              "      </button>\n",
              "      \n",
              "  <style>\n",
              "    .colab-df-container {\n",
              "      display:flex;\n",
              "      flex-wrap:wrap;\n",
              "      gap: 12px;\n",
              "    }\n",
              "\n",
              "    .colab-df-convert {\n",
              "      background-color: #E8F0FE;\n",
              "      border: none;\n",
              "      border-radius: 50%;\n",
              "      cursor: pointer;\n",
              "      display: none;\n",
              "      fill: #1967D2;\n",
              "      height: 32px;\n",
              "      padding: 0 0 0 0;\n",
              "      width: 32px;\n",
              "    }\n",
              "\n",
              "    .colab-df-convert:hover {\n",
              "      background-color: #E2EBFA;\n",
              "      box-shadow: 0px 1px 2px rgba(60, 64, 67, 0.3), 0px 1px 3px 1px rgba(60, 64, 67, 0.15);\n",
              "      fill: #174EA6;\n",
              "    }\n",
              "\n",
              "    [theme=dark] .colab-df-convert {\n",
              "      background-color: #3B4455;\n",
              "      fill: #D2E3FC;\n",
              "    }\n",
              "\n",
              "    [theme=dark] .colab-df-convert:hover {\n",
              "      background-color: #434B5C;\n",
              "      box-shadow: 0px 1px 3px 1px rgba(0, 0, 0, 0.15);\n",
              "      filter: drop-shadow(0px 1px 2px rgba(0, 0, 0, 0.3));\n",
              "      fill: #FFFFFF;\n",
              "    }\n",
              "  </style>\n",
              "\n",
              "      <script>\n",
              "        const buttonEl =\n",
              "          document.querySelector('#df-0ad9dd96-2e49-42f6-a642-d2d04bb20b17 button.colab-df-convert');\n",
              "        buttonEl.style.display =\n",
              "          google.colab.kernel.accessAllowed ? 'block' : 'none';\n",
              "\n",
              "        async function convertToInteractive(key) {\n",
              "          const element = document.querySelector('#df-0ad9dd96-2e49-42f6-a642-d2d04bb20b17');\n",
              "          const dataTable =\n",
              "            await google.colab.kernel.invokeFunction('convertToInteractive',\n",
              "                                                     [key], {});\n",
              "          if (!dataTable) return;\n",
              "\n",
              "          const docLinkHtml = 'Like what you see? Visit the ' +\n",
              "            '<a target=\"_blank\" href=https://colab.research.google.com/notebooks/data_table.ipynb>data table notebook</a>'\n",
              "            + ' to learn more about interactive tables.';\n",
              "          element.innerHTML = '';\n",
              "          dataTable['output_type'] = 'display_data';\n",
              "          await google.colab.output.renderOutput(dataTable, element);\n",
              "          const docLink = document.createElement('div');\n",
              "          docLink.innerHTML = docLinkHtml;\n",
              "          element.appendChild(docLink);\n",
              "        }\n",
              "      </script>\n",
              "    </div>\n",
              "  </div>\n",
              "  "
            ]
          },
          "metadata": {},
          "execution_count": 28
        }
      ]
    },
    {
      "cell_type": "code",
      "source": [
        "#filling null values\n",
        "for col in list(df.columns):\n",
        "    if df[col].dtypes == 'object':\n",
        "        df[col] = df[col].fillna(df[col].value_counts().idxmax())\n",
        "    # elif df[col].dtypes == 'float64':\n",
        "    #     df[col] = df[col].fillna(df[col].mean())\n",
        "    else:\n",
        "        df[col] = df[col].fillna(df[col].mean())"
      ],
      "metadata": {
        "id": "IMFM__c2vxl-"
      },
      "execution_count": null,
      "outputs": []
    },
    {
      "cell_type": "code",
      "source": [
        "df.isnull().sum()"
      ],
      "metadata": {
        "colab": {
          "base_uri": "https://localhost:8080/"
        },
        "id": "1rmRH-PkwNDm",
        "outputId": "b7d54fbd-cd34-490a-c53f-f57a1e7e8573"
      },
      "execution_count": null,
      "outputs": [
        {
          "output_type": "execute_result",
          "data": {
            "text/plain": [
              "Grant.Status                      0\n",
              "Sponsor.Code                      0\n",
              "Grant.Category.Code               0\n",
              "RFCD.Code.1                       0\n",
              "RFCD.Percentage.1                 0\n",
              "RFCD.Code.2                       0\n",
              "RFCD.Percentage.2                 0\n",
              "RFCD.Code.3                       0\n",
              "RFCD.Percentage.3                 0\n",
              "SEO.Code.1                        0\n",
              "SEO.Percentage.1                  0\n",
              "SEO.Code.2                        0\n",
              "SEO.Percentage.2                  0\n",
              "SEO.Code.3                        0\n",
              "SEO.Percentage.3                  0\n",
              "SEO.Percentage.5                  0\n",
              "Person.ID.1                       0\n",
              "Role.1                            0\n",
              "Faculty.No..1                     0\n",
              "Number.of.Successful.Grant.1      0\n",
              "Number.of.Unsuccessful.Grant.1    0\n",
              "dtype: int64"
            ]
          },
          "metadata": {},
          "execution_count": 30
        }
      ]
    },
    {
      "cell_type": "code",
      "source": [
        "df.head()"
      ],
      "metadata": {
        "colab": {
          "base_uri": "https://localhost:8080/",
          "height": 299
        },
        "id": "luNJZkRFwROK",
        "outputId": "9ec3c470-86f3-4dbd-a0ec-139e450273e5"
      },
      "execution_count": null,
      "outputs": [
        {
          "output_type": "execute_result",
          "data": {
            "text/plain": [
              "   Grant.Status Sponsor.Code Grant.Category.Code  RFCD.Code.1  \\\n",
              "0             1           4D                 10A     280199.0   \n",
              "1             1           2B                 10A     280103.0   \n",
              "2             1          29A                 10B     321004.0   \n",
              "3             1          40D                 10B     270602.0   \n",
              "4             0          59C                 10A     260500.0   \n",
              "\n",
              "   RFCD.Percentage.1  RFCD.Code.2  RFCD.Percentage.2  RFCD.Code.3  \\\n",
              "0              100.0          0.0                0.0          0.0   \n",
              "1               30.0     280106.0               30.0     280203.0   \n",
              "2               60.0     321216.0               40.0          0.0   \n",
              "3               50.0     320602.0               50.0          0.0   \n",
              "4               34.0     280000.0               33.0     290000.0   \n",
              "\n",
              "   RFCD.Percentage.3  SEO.Code.1  ...  SEO.Code.2  SEO.Percentage.2  \\\n",
              "0                0.0    700299.0  ...         0.0               0.0   \n",
              "1               40.0    700103.0  ...    700102.0              50.0   \n",
              "2                0.0    730105.0  ...    730207.0              40.0   \n",
              "3                0.0    730106.0  ...    730201.0              30.0   \n",
              "4               33.0    770199.0  ...         0.0               0.0   \n",
              "\n",
              "   SEO.Code.3  SEO.Percentage.3  SEO.Percentage.5  Person.ID.1  \\\n",
              "0         0.0               0.0               0.0      40572.0   \n",
              "1         0.0               0.0               0.0       9067.0   \n",
              "2         0.0               0.0               0.0       5967.0   \n",
              "3         0.0               0.0               0.0      78782.0   \n",
              "4         0.0               0.0               0.0      13042.0   \n",
              "\n",
              "                 Role.1 Faculty.No..1  Number.of.Successful.Grant.1  \\\n",
              "0    CHIEF_INVESTIGATOR          31.0                           0.0   \n",
              "1    CHIEF_INVESTIGATOR          25.0                           0.0   \n",
              "2    CHIEF_INVESTIGATOR          25.0                           0.0   \n",
              "3  PRINCIPAL_SUPERVISOR          25.0                           0.0   \n",
              "4    CHIEF_INVESTIGATOR          19.0                           0.0   \n",
              "\n",
              "   Number.of.Unsuccessful.Grant.1  \n",
              "0                             0.0  \n",
              "1                             0.0  \n",
              "2                             0.0  \n",
              "3                             0.0  \n",
              "4                             0.0  \n",
              "\n",
              "[5 rows x 21 columns]"
            ],
            "text/html": [
              "\n",
              "  <div id=\"df-1ad8819d-b68d-45a9-a68b-3a9f182916c2\">\n",
              "    <div class=\"colab-df-container\">\n",
              "      <div>\n",
              "<style scoped>\n",
              "    .dataframe tbody tr th:only-of-type {\n",
              "        vertical-align: middle;\n",
              "    }\n",
              "\n",
              "    .dataframe tbody tr th {\n",
              "        vertical-align: top;\n",
              "    }\n",
              "\n",
              "    .dataframe thead th {\n",
              "        text-align: right;\n",
              "    }\n",
              "</style>\n",
              "<table border=\"1\" class=\"dataframe\">\n",
              "  <thead>\n",
              "    <tr style=\"text-align: right;\">\n",
              "      <th></th>\n",
              "      <th>Grant.Status</th>\n",
              "      <th>Sponsor.Code</th>\n",
              "      <th>Grant.Category.Code</th>\n",
              "      <th>RFCD.Code.1</th>\n",
              "      <th>RFCD.Percentage.1</th>\n",
              "      <th>RFCD.Code.2</th>\n",
              "      <th>RFCD.Percentage.2</th>\n",
              "      <th>RFCD.Code.3</th>\n",
              "      <th>RFCD.Percentage.3</th>\n",
              "      <th>SEO.Code.1</th>\n",
              "      <th>...</th>\n",
              "      <th>SEO.Code.2</th>\n",
              "      <th>SEO.Percentage.2</th>\n",
              "      <th>SEO.Code.3</th>\n",
              "      <th>SEO.Percentage.3</th>\n",
              "      <th>SEO.Percentage.5</th>\n",
              "      <th>Person.ID.1</th>\n",
              "      <th>Role.1</th>\n",
              "      <th>Faculty.No..1</th>\n",
              "      <th>Number.of.Successful.Grant.1</th>\n",
              "      <th>Number.of.Unsuccessful.Grant.1</th>\n",
              "    </tr>\n",
              "  </thead>\n",
              "  <tbody>\n",
              "    <tr>\n",
              "      <th>0</th>\n",
              "      <td>1</td>\n",
              "      <td>4D</td>\n",
              "      <td>10A</td>\n",
              "      <td>280199.0</td>\n",
              "      <td>100.0</td>\n",
              "      <td>0.0</td>\n",
              "      <td>0.0</td>\n",
              "      <td>0.0</td>\n",
              "      <td>0.0</td>\n",
              "      <td>700299.0</td>\n",
              "      <td>...</td>\n",
              "      <td>0.0</td>\n",
              "      <td>0.0</td>\n",
              "      <td>0.0</td>\n",
              "      <td>0.0</td>\n",
              "      <td>0.0</td>\n",
              "      <td>40572.0</td>\n",
              "      <td>CHIEF_INVESTIGATOR</td>\n",
              "      <td>31.0</td>\n",
              "      <td>0.0</td>\n",
              "      <td>0.0</td>\n",
              "    </tr>\n",
              "    <tr>\n",
              "      <th>1</th>\n",
              "      <td>1</td>\n",
              "      <td>2B</td>\n",
              "      <td>10A</td>\n",
              "      <td>280103.0</td>\n",
              "      <td>30.0</td>\n",
              "      <td>280106.0</td>\n",
              "      <td>30.0</td>\n",
              "      <td>280203.0</td>\n",
              "      <td>40.0</td>\n",
              "      <td>700103.0</td>\n",
              "      <td>...</td>\n",
              "      <td>700102.0</td>\n",
              "      <td>50.0</td>\n",
              "      <td>0.0</td>\n",
              "      <td>0.0</td>\n",
              "      <td>0.0</td>\n",
              "      <td>9067.0</td>\n",
              "      <td>CHIEF_INVESTIGATOR</td>\n",
              "      <td>25.0</td>\n",
              "      <td>0.0</td>\n",
              "      <td>0.0</td>\n",
              "    </tr>\n",
              "    <tr>\n",
              "      <th>2</th>\n",
              "      <td>1</td>\n",
              "      <td>29A</td>\n",
              "      <td>10B</td>\n",
              "      <td>321004.0</td>\n",
              "      <td>60.0</td>\n",
              "      <td>321216.0</td>\n",
              "      <td>40.0</td>\n",
              "      <td>0.0</td>\n",
              "      <td>0.0</td>\n",
              "      <td>730105.0</td>\n",
              "      <td>...</td>\n",
              "      <td>730207.0</td>\n",
              "      <td>40.0</td>\n",
              "      <td>0.0</td>\n",
              "      <td>0.0</td>\n",
              "      <td>0.0</td>\n",
              "      <td>5967.0</td>\n",
              "      <td>CHIEF_INVESTIGATOR</td>\n",
              "      <td>25.0</td>\n",
              "      <td>0.0</td>\n",
              "      <td>0.0</td>\n",
              "    </tr>\n",
              "    <tr>\n",
              "      <th>3</th>\n",
              "      <td>1</td>\n",
              "      <td>40D</td>\n",
              "      <td>10B</td>\n",
              "      <td>270602.0</td>\n",
              "      <td>50.0</td>\n",
              "      <td>320602.0</td>\n",
              "      <td>50.0</td>\n",
              "      <td>0.0</td>\n",
              "      <td>0.0</td>\n",
              "      <td>730106.0</td>\n",
              "      <td>...</td>\n",
              "      <td>730201.0</td>\n",
              "      <td>30.0</td>\n",
              "      <td>0.0</td>\n",
              "      <td>0.0</td>\n",
              "      <td>0.0</td>\n",
              "      <td>78782.0</td>\n",
              "      <td>PRINCIPAL_SUPERVISOR</td>\n",
              "      <td>25.0</td>\n",
              "      <td>0.0</td>\n",
              "      <td>0.0</td>\n",
              "    </tr>\n",
              "    <tr>\n",
              "      <th>4</th>\n",
              "      <td>0</td>\n",
              "      <td>59C</td>\n",
              "      <td>10A</td>\n",
              "      <td>260500.0</td>\n",
              "      <td>34.0</td>\n",
              "      <td>280000.0</td>\n",
              "      <td>33.0</td>\n",
              "      <td>290000.0</td>\n",
              "      <td>33.0</td>\n",
              "      <td>770199.0</td>\n",
              "      <td>...</td>\n",
              "      <td>0.0</td>\n",
              "      <td>0.0</td>\n",
              "      <td>0.0</td>\n",
              "      <td>0.0</td>\n",
              "      <td>0.0</td>\n",
              "      <td>13042.0</td>\n",
              "      <td>CHIEF_INVESTIGATOR</td>\n",
              "      <td>19.0</td>\n",
              "      <td>0.0</td>\n",
              "      <td>0.0</td>\n",
              "    </tr>\n",
              "  </tbody>\n",
              "</table>\n",
              "<p>5 rows × 21 columns</p>\n",
              "</div>\n",
              "      <button class=\"colab-df-convert\" onclick=\"convertToInteractive('df-1ad8819d-b68d-45a9-a68b-3a9f182916c2')\"\n",
              "              title=\"Convert this dataframe to an interactive table.\"\n",
              "              style=\"display:none;\">\n",
              "        \n",
              "  <svg xmlns=\"http://www.w3.org/2000/svg\" height=\"24px\"viewBox=\"0 0 24 24\"\n",
              "       width=\"24px\">\n",
              "    <path d=\"M0 0h24v24H0V0z\" fill=\"none\"/>\n",
              "    <path d=\"M18.56 5.44l.94 2.06.94-2.06 2.06-.94-2.06-.94-.94-2.06-.94 2.06-2.06.94zm-11 1L8.5 8.5l.94-2.06 2.06-.94-2.06-.94L8.5 2.5l-.94 2.06-2.06.94zm10 10l.94 2.06.94-2.06 2.06-.94-2.06-.94-.94-2.06-.94 2.06-2.06.94z\"/><path d=\"M17.41 7.96l-1.37-1.37c-.4-.4-.92-.59-1.43-.59-.52 0-1.04.2-1.43.59L10.3 9.45l-7.72 7.72c-.78.78-.78 2.05 0 2.83L4 21.41c.39.39.9.59 1.41.59.51 0 1.02-.2 1.41-.59l7.78-7.78 2.81-2.81c.8-.78.8-2.07 0-2.86zM5.41 20L4 18.59l7.72-7.72 1.47 1.35L5.41 20z\"/>\n",
              "  </svg>\n",
              "      </button>\n",
              "      \n",
              "  <style>\n",
              "    .colab-df-container {\n",
              "      display:flex;\n",
              "      flex-wrap:wrap;\n",
              "      gap: 12px;\n",
              "    }\n",
              "\n",
              "    .colab-df-convert {\n",
              "      background-color: #E8F0FE;\n",
              "      border: none;\n",
              "      border-radius: 50%;\n",
              "      cursor: pointer;\n",
              "      display: none;\n",
              "      fill: #1967D2;\n",
              "      height: 32px;\n",
              "      padding: 0 0 0 0;\n",
              "      width: 32px;\n",
              "    }\n",
              "\n",
              "    .colab-df-convert:hover {\n",
              "      background-color: #E2EBFA;\n",
              "      box-shadow: 0px 1px 2px rgba(60, 64, 67, 0.3), 0px 1px 3px 1px rgba(60, 64, 67, 0.15);\n",
              "      fill: #174EA6;\n",
              "    }\n",
              "\n",
              "    [theme=dark] .colab-df-convert {\n",
              "      background-color: #3B4455;\n",
              "      fill: #D2E3FC;\n",
              "    }\n",
              "\n",
              "    [theme=dark] .colab-df-convert:hover {\n",
              "      background-color: #434B5C;\n",
              "      box-shadow: 0px 1px 3px 1px rgba(0, 0, 0, 0.15);\n",
              "      filter: drop-shadow(0px 1px 2px rgba(0, 0, 0, 0.3));\n",
              "      fill: #FFFFFF;\n",
              "    }\n",
              "  </style>\n",
              "\n",
              "      <script>\n",
              "        const buttonEl =\n",
              "          document.querySelector('#df-1ad8819d-b68d-45a9-a68b-3a9f182916c2 button.colab-df-convert');\n",
              "        buttonEl.style.display =\n",
              "          google.colab.kernel.accessAllowed ? 'block' : 'none';\n",
              "\n",
              "        async function convertToInteractive(key) {\n",
              "          const element = document.querySelector('#df-1ad8819d-b68d-45a9-a68b-3a9f182916c2');\n",
              "          const dataTable =\n",
              "            await google.colab.kernel.invokeFunction('convertToInteractive',\n",
              "                                                     [key], {});\n",
              "          if (!dataTable) return;\n",
              "\n",
              "          const docLinkHtml = 'Like what you see? Visit the ' +\n",
              "            '<a target=\"_blank\" href=https://colab.research.google.com/notebooks/data_table.ipynb>data table notebook</a>'\n",
              "            + ' to learn more about interactive tables.';\n",
              "          element.innerHTML = '';\n",
              "          dataTable['output_type'] = 'display_data';\n",
              "          await google.colab.output.renderOutput(dataTable, element);\n",
              "          const docLink = document.createElement('div');\n",
              "          docLink.innerHTML = docLinkHtml;\n",
              "          element.appendChild(docLink);\n",
              "        }\n",
              "      </script>\n",
              "    </div>\n",
              "  </div>\n",
              "  "
            ]
          },
          "metadata": {},
          "execution_count": 31
        }
      ]
    },
    {
      "cell_type": "code",
      "source": [
        "df.dtypes"
      ],
      "metadata": {
        "colab": {
          "base_uri": "https://localhost:8080/"
        },
        "id": "OM8UrRZ4waHo",
        "outputId": "256fac3c-9e3b-4c3d-9dbf-d653626ee96c"
      },
      "execution_count": null,
      "outputs": [
        {
          "output_type": "execute_result",
          "data": {
            "text/plain": [
              "Grant.Status                        int64\n",
              "Sponsor.Code                       object\n",
              "Grant.Category.Code                object\n",
              "RFCD.Code.1                       float64\n",
              "RFCD.Percentage.1                 float64\n",
              "RFCD.Code.2                       float64\n",
              "RFCD.Percentage.2                 float64\n",
              "RFCD.Code.3                       float64\n",
              "RFCD.Percentage.3                 float64\n",
              "SEO.Code.1                        float64\n",
              "SEO.Percentage.1                  float64\n",
              "SEO.Code.2                        float64\n",
              "SEO.Percentage.2                  float64\n",
              "SEO.Code.3                        float64\n",
              "SEO.Percentage.3                  float64\n",
              "SEO.Percentage.5                  float64\n",
              "Person.ID.1                       float64\n",
              "Role.1                             object\n",
              "Faculty.No..1                     float64\n",
              "Number.of.Successful.Grant.1      float64\n",
              "Number.of.Unsuccessful.Grant.1    float64\n",
              "dtype: object"
            ]
          },
          "metadata": {},
          "execution_count": 32
        }
      ]
    },
    {
      "cell_type": "code",
      "source": [
        "## Transform to Encoder\n",
        "\n",
        "from sklearn.preprocessing import LabelEncoder\n",
        "\n",
        "## Transform to Encoder in train set\n",
        "\n",
        "for col in list(df.columns):\n",
        "    if df[col].dtypes == 'object':\n",
        "        df[col] = LabelEncoder().fit_transform(df[col])"
      ],
      "metadata": {
        "id": "OBOstU4Xwbqi"
      },
      "execution_count": null,
      "outputs": []
    },
    {
      "cell_type": "code",
      "source": [
        "df.head()"
      ],
      "metadata": {
        "colab": {
          "base_uri": "https://localhost:8080/",
          "height": 299
        },
        "id": "K0jaDHaHw6au",
        "outputId": "d70f069d-1832-4559-ec37-670f7141edcf"
      },
      "execution_count": null,
      "outputs": [
        {
          "output_type": "execute_result",
          "data": {
            "text/plain": [
              "   Grant.Status  Sponsor.Code  Grant.Category.Code  RFCD.Code.1  \\\n",
              "0             1           255                    0     280199.0   \n",
              "1             1           187                    0     280103.0   \n",
              "2             1           186                    1     321004.0   \n",
              "3             1           236                    1     270602.0   \n",
              "4             0           263                    0     260500.0   \n",
              "\n",
              "   RFCD.Percentage.1  RFCD.Code.2  RFCD.Percentage.2  RFCD.Code.3  \\\n",
              "0              100.0          0.0                0.0          0.0   \n",
              "1               30.0     280106.0               30.0     280203.0   \n",
              "2               60.0     321216.0               40.0          0.0   \n",
              "3               50.0     320602.0               50.0          0.0   \n",
              "4               34.0     280000.0               33.0     290000.0   \n",
              "\n",
              "   RFCD.Percentage.3  SEO.Code.1  ...  SEO.Code.2  SEO.Percentage.2  \\\n",
              "0                0.0    700299.0  ...         0.0               0.0   \n",
              "1               40.0    700103.0  ...    700102.0              50.0   \n",
              "2                0.0    730105.0  ...    730207.0              40.0   \n",
              "3                0.0    730106.0  ...    730201.0              30.0   \n",
              "4               33.0    770199.0  ...         0.0               0.0   \n",
              "\n",
              "   SEO.Code.3  SEO.Percentage.3  SEO.Percentage.5  Person.ID.1  Role.1  \\\n",
              "0         0.0               0.0               0.0      40572.0       0   \n",
              "1         0.0               0.0               0.0       9067.0       0   \n",
              "2         0.0               0.0               0.0       5967.0       0   \n",
              "3         0.0               0.0               0.0      78782.0       5   \n",
              "4         0.0               0.0               0.0      13042.0       0   \n",
              "\n",
              "   Faculty.No..1  Number.of.Successful.Grant.1  Number.of.Unsuccessful.Grant.1  \n",
              "0           31.0                           0.0                             0.0  \n",
              "1           25.0                           0.0                             0.0  \n",
              "2           25.0                           0.0                             0.0  \n",
              "3           25.0                           0.0                             0.0  \n",
              "4           19.0                           0.0                             0.0  \n",
              "\n",
              "[5 rows x 21 columns]"
            ],
            "text/html": [
              "\n",
              "  <div id=\"df-579f9080-4564-4312-a148-1f857b407b65\">\n",
              "    <div class=\"colab-df-container\">\n",
              "      <div>\n",
              "<style scoped>\n",
              "    .dataframe tbody tr th:only-of-type {\n",
              "        vertical-align: middle;\n",
              "    }\n",
              "\n",
              "    .dataframe tbody tr th {\n",
              "        vertical-align: top;\n",
              "    }\n",
              "\n",
              "    .dataframe thead th {\n",
              "        text-align: right;\n",
              "    }\n",
              "</style>\n",
              "<table border=\"1\" class=\"dataframe\">\n",
              "  <thead>\n",
              "    <tr style=\"text-align: right;\">\n",
              "      <th></th>\n",
              "      <th>Grant.Status</th>\n",
              "      <th>Sponsor.Code</th>\n",
              "      <th>Grant.Category.Code</th>\n",
              "      <th>RFCD.Code.1</th>\n",
              "      <th>RFCD.Percentage.1</th>\n",
              "      <th>RFCD.Code.2</th>\n",
              "      <th>RFCD.Percentage.2</th>\n",
              "      <th>RFCD.Code.3</th>\n",
              "      <th>RFCD.Percentage.3</th>\n",
              "      <th>SEO.Code.1</th>\n",
              "      <th>...</th>\n",
              "      <th>SEO.Code.2</th>\n",
              "      <th>SEO.Percentage.2</th>\n",
              "      <th>SEO.Code.3</th>\n",
              "      <th>SEO.Percentage.3</th>\n",
              "      <th>SEO.Percentage.5</th>\n",
              "      <th>Person.ID.1</th>\n",
              "      <th>Role.1</th>\n",
              "      <th>Faculty.No..1</th>\n",
              "      <th>Number.of.Successful.Grant.1</th>\n",
              "      <th>Number.of.Unsuccessful.Grant.1</th>\n",
              "    </tr>\n",
              "  </thead>\n",
              "  <tbody>\n",
              "    <tr>\n",
              "      <th>0</th>\n",
              "      <td>1</td>\n",
              "      <td>255</td>\n",
              "      <td>0</td>\n",
              "      <td>280199.0</td>\n",
              "      <td>100.0</td>\n",
              "      <td>0.0</td>\n",
              "      <td>0.0</td>\n",
              "      <td>0.0</td>\n",
              "      <td>0.0</td>\n",
              "      <td>700299.0</td>\n",
              "      <td>...</td>\n",
              "      <td>0.0</td>\n",
              "      <td>0.0</td>\n",
              "      <td>0.0</td>\n",
              "      <td>0.0</td>\n",
              "      <td>0.0</td>\n",
              "      <td>40572.0</td>\n",
              "      <td>0</td>\n",
              "      <td>31.0</td>\n",
              "      <td>0.0</td>\n",
              "      <td>0.0</td>\n",
              "    </tr>\n",
              "    <tr>\n",
              "      <th>1</th>\n",
              "      <td>1</td>\n",
              "      <td>187</td>\n",
              "      <td>0</td>\n",
              "      <td>280103.0</td>\n",
              "      <td>30.0</td>\n",
              "      <td>280106.0</td>\n",
              "      <td>30.0</td>\n",
              "      <td>280203.0</td>\n",
              "      <td>40.0</td>\n",
              "      <td>700103.0</td>\n",
              "      <td>...</td>\n",
              "      <td>700102.0</td>\n",
              "      <td>50.0</td>\n",
              "      <td>0.0</td>\n",
              "      <td>0.0</td>\n",
              "      <td>0.0</td>\n",
              "      <td>9067.0</td>\n",
              "      <td>0</td>\n",
              "      <td>25.0</td>\n",
              "      <td>0.0</td>\n",
              "      <td>0.0</td>\n",
              "    </tr>\n",
              "    <tr>\n",
              "      <th>2</th>\n",
              "      <td>1</td>\n",
              "      <td>186</td>\n",
              "      <td>1</td>\n",
              "      <td>321004.0</td>\n",
              "      <td>60.0</td>\n",
              "      <td>321216.0</td>\n",
              "      <td>40.0</td>\n",
              "      <td>0.0</td>\n",
              "      <td>0.0</td>\n",
              "      <td>730105.0</td>\n",
              "      <td>...</td>\n",
              "      <td>730207.0</td>\n",
              "      <td>40.0</td>\n",
              "      <td>0.0</td>\n",
              "      <td>0.0</td>\n",
              "      <td>0.0</td>\n",
              "      <td>5967.0</td>\n",
              "      <td>0</td>\n",
              "      <td>25.0</td>\n",
              "      <td>0.0</td>\n",
              "      <td>0.0</td>\n",
              "    </tr>\n",
              "    <tr>\n",
              "      <th>3</th>\n",
              "      <td>1</td>\n",
              "      <td>236</td>\n",
              "      <td>1</td>\n",
              "      <td>270602.0</td>\n",
              "      <td>50.0</td>\n",
              "      <td>320602.0</td>\n",
              "      <td>50.0</td>\n",
              "      <td>0.0</td>\n",
              "      <td>0.0</td>\n",
              "      <td>730106.0</td>\n",
              "      <td>...</td>\n",
              "      <td>730201.0</td>\n",
              "      <td>30.0</td>\n",
              "      <td>0.0</td>\n",
              "      <td>0.0</td>\n",
              "      <td>0.0</td>\n",
              "      <td>78782.0</td>\n",
              "      <td>5</td>\n",
              "      <td>25.0</td>\n",
              "      <td>0.0</td>\n",
              "      <td>0.0</td>\n",
              "    </tr>\n",
              "    <tr>\n",
              "      <th>4</th>\n",
              "      <td>0</td>\n",
              "      <td>263</td>\n",
              "      <td>0</td>\n",
              "      <td>260500.0</td>\n",
              "      <td>34.0</td>\n",
              "      <td>280000.0</td>\n",
              "      <td>33.0</td>\n",
              "      <td>290000.0</td>\n",
              "      <td>33.0</td>\n",
              "      <td>770199.0</td>\n",
              "      <td>...</td>\n",
              "      <td>0.0</td>\n",
              "      <td>0.0</td>\n",
              "      <td>0.0</td>\n",
              "      <td>0.0</td>\n",
              "      <td>0.0</td>\n",
              "      <td>13042.0</td>\n",
              "      <td>0</td>\n",
              "      <td>19.0</td>\n",
              "      <td>0.0</td>\n",
              "      <td>0.0</td>\n",
              "    </tr>\n",
              "  </tbody>\n",
              "</table>\n",
              "<p>5 rows × 21 columns</p>\n",
              "</div>\n",
              "      <button class=\"colab-df-convert\" onclick=\"convertToInteractive('df-579f9080-4564-4312-a148-1f857b407b65')\"\n",
              "              title=\"Convert this dataframe to an interactive table.\"\n",
              "              style=\"display:none;\">\n",
              "        \n",
              "  <svg xmlns=\"http://www.w3.org/2000/svg\" height=\"24px\"viewBox=\"0 0 24 24\"\n",
              "       width=\"24px\">\n",
              "    <path d=\"M0 0h24v24H0V0z\" fill=\"none\"/>\n",
              "    <path d=\"M18.56 5.44l.94 2.06.94-2.06 2.06-.94-2.06-.94-.94-2.06-.94 2.06-2.06.94zm-11 1L8.5 8.5l.94-2.06 2.06-.94-2.06-.94L8.5 2.5l-.94 2.06-2.06.94zm10 10l.94 2.06.94-2.06 2.06-.94-2.06-.94-.94-2.06-.94 2.06-2.06.94z\"/><path d=\"M17.41 7.96l-1.37-1.37c-.4-.4-.92-.59-1.43-.59-.52 0-1.04.2-1.43.59L10.3 9.45l-7.72 7.72c-.78.78-.78 2.05 0 2.83L4 21.41c.39.39.9.59 1.41.59.51 0 1.02-.2 1.41-.59l7.78-7.78 2.81-2.81c.8-.78.8-2.07 0-2.86zM5.41 20L4 18.59l7.72-7.72 1.47 1.35L5.41 20z\"/>\n",
              "  </svg>\n",
              "      </button>\n",
              "      \n",
              "  <style>\n",
              "    .colab-df-container {\n",
              "      display:flex;\n",
              "      flex-wrap:wrap;\n",
              "      gap: 12px;\n",
              "    }\n",
              "\n",
              "    .colab-df-convert {\n",
              "      background-color: #E8F0FE;\n",
              "      border: none;\n",
              "      border-radius: 50%;\n",
              "      cursor: pointer;\n",
              "      display: none;\n",
              "      fill: #1967D2;\n",
              "      height: 32px;\n",
              "      padding: 0 0 0 0;\n",
              "      width: 32px;\n",
              "    }\n",
              "\n",
              "    .colab-df-convert:hover {\n",
              "      background-color: #E2EBFA;\n",
              "      box-shadow: 0px 1px 2px rgba(60, 64, 67, 0.3), 0px 1px 3px 1px rgba(60, 64, 67, 0.15);\n",
              "      fill: #174EA6;\n",
              "    }\n",
              "\n",
              "    [theme=dark] .colab-df-convert {\n",
              "      background-color: #3B4455;\n",
              "      fill: #D2E3FC;\n",
              "    }\n",
              "\n",
              "    [theme=dark] .colab-df-convert:hover {\n",
              "      background-color: #434B5C;\n",
              "      box-shadow: 0px 1px 3px 1px rgba(0, 0, 0, 0.15);\n",
              "      filter: drop-shadow(0px 1px 2px rgba(0, 0, 0, 0.3));\n",
              "      fill: #FFFFFF;\n",
              "    }\n",
              "  </style>\n",
              "\n",
              "      <script>\n",
              "        const buttonEl =\n",
              "          document.querySelector('#df-579f9080-4564-4312-a148-1f857b407b65 button.colab-df-convert');\n",
              "        buttonEl.style.display =\n",
              "          google.colab.kernel.accessAllowed ? 'block' : 'none';\n",
              "\n",
              "        async function convertToInteractive(key) {\n",
              "          const element = document.querySelector('#df-579f9080-4564-4312-a148-1f857b407b65');\n",
              "          const dataTable =\n",
              "            await google.colab.kernel.invokeFunction('convertToInteractive',\n",
              "                                                     [key], {});\n",
              "          if (!dataTable) return;\n",
              "\n",
              "          const docLinkHtml = 'Like what you see? Visit the ' +\n",
              "            '<a target=\"_blank\" href=https://colab.research.google.com/notebooks/data_table.ipynb>data table notebook</a>'\n",
              "            + ' to learn more about interactive tables.';\n",
              "          element.innerHTML = '';\n",
              "          dataTable['output_type'] = 'display_data';\n",
              "          await google.colab.output.renderOutput(dataTable, element);\n",
              "          const docLink = document.createElement('div');\n",
              "          docLink.innerHTML = docLinkHtml;\n",
              "          element.appendChild(docLink);\n",
              "        }\n",
              "      </script>\n",
              "    </div>\n",
              "  </div>\n",
              "  "
            ]
          },
          "metadata": {},
          "execution_count": 34
        }
      ]
    },
    {
      "cell_type": "code",
      "source": [
        "df.dtypes"
      ],
      "metadata": {
        "colab": {
          "base_uri": "https://localhost:8080/"
        },
        "id": "v-Ya-qHFw-9c",
        "outputId": "084328bd-c550-451b-9def-11fd3d356d61"
      },
      "execution_count": null,
      "outputs": [
        {
          "output_type": "execute_result",
          "data": {
            "text/plain": [
              "Grant.Status                        int64\n",
              "Sponsor.Code                        int64\n",
              "Grant.Category.Code                 int64\n",
              "RFCD.Code.1                       float64\n",
              "RFCD.Percentage.1                 float64\n",
              "RFCD.Code.2                       float64\n",
              "RFCD.Percentage.2                 float64\n",
              "RFCD.Code.3                       float64\n",
              "RFCD.Percentage.3                 float64\n",
              "SEO.Code.1                        float64\n",
              "SEO.Percentage.1                  float64\n",
              "SEO.Code.2                        float64\n",
              "SEO.Percentage.2                  float64\n",
              "SEO.Code.3                        float64\n",
              "SEO.Percentage.3                  float64\n",
              "SEO.Percentage.5                  float64\n",
              "Person.ID.1                       float64\n",
              "Role.1                              int64\n",
              "Faculty.No..1                     float64\n",
              "Number.of.Successful.Grant.1      float64\n",
              "Number.of.Unsuccessful.Grant.1    float64\n",
              "dtype: object"
            ]
          },
          "metadata": {},
          "execution_count": 35
        }
      ]
    },
    {
      "cell_type": "code",
      "source": [
        "df.head()"
      ],
      "metadata": {
        "colab": {
          "base_uri": "https://localhost:8080/",
          "height": 299
        },
        "id": "n2Tym7lhxULH",
        "outputId": "b1151b2b-7e45-42af-810c-9f25cca3daaa"
      },
      "execution_count": null,
      "outputs": [
        {
          "output_type": "execute_result",
          "data": {
            "text/plain": [
              "   Grant.Status  Sponsor.Code  Grant.Category.Code  RFCD.Code.1  \\\n",
              "0             1           255                    0     280199.0   \n",
              "1             1           187                    0     280103.0   \n",
              "2             1           186                    1     321004.0   \n",
              "3             1           236                    1     270602.0   \n",
              "4             0           263                    0     260500.0   \n",
              "\n",
              "   RFCD.Percentage.1  RFCD.Code.2  RFCD.Percentage.2  RFCD.Code.3  \\\n",
              "0              100.0          0.0                0.0          0.0   \n",
              "1               30.0     280106.0               30.0     280203.0   \n",
              "2               60.0     321216.0               40.0          0.0   \n",
              "3               50.0     320602.0               50.0          0.0   \n",
              "4               34.0     280000.0               33.0     290000.0   \n",
              "\n",
              "   RFCD.Percentage.3  SEO.Code.1  ...  SEO.Code.2  SEO.Percentage.2  \\\n",
              "0                0.0    700299.0  ...         0.0               0.0   \n",
              "1               40.0    700103.0  ...    700102.0              50.0   \n",
              "2                0.0    730105.0  ...    730207.0              40.0   \n",
              "3                0.0    730106.0  ...    730201.0              30.0   \n",
              "4               33.0    770199.0  ...         0.0               0.0   \n",
              "\n",
              "   SEO.Code.3  SEO.Percentage.3  SEO.Percentage.5  Person.ID.1  Role.1  \\\n",
              "0         0.0               0.0               0.0      40572.0       0   \n",
              "1         0.0               0.0               0.0       9067.0       0   \n",
              "2         0.0               0.0               0.0       5967.0       0   \n",
              "3         0.0               0.0               0.0      78782.0       5   \n",
              "4         0.0               0.0               0.0      13042.0       0   \n",
              "\n",
              "   Faculty.No..1  Number.of.Successful.Grant.1  Number.of.Unsuccessful.Grant.1  \n",
              "0           31.0                           0.0                             0.0  \n",
              "1           25.0                           0.0                             0.0  \n",
              "2           25.0                           0.0                             0.0  \n",
              "3           25.0                           0.0                             0.0  \n",
              "4           19.0                           0.0                             0.0  \n",
              "\n",
              "[5 rows x 21 columns]"
            ],
            "text/html": [
              "\n",
              "  <div id=\"df-c2a8f30a-6267-4411-9307-7084d063a804\">\n",
              "    <div class=\"colab-df-container\">\n",
              "      <div>\n",
              "<style scoped>\n",
              "    .dataframe tbody tr th:only-of-type {\n",
              "        vertical-align: middle;\n",
              "    }\n",
              "\n",
              "    .dataframe tbody tr th {\n",
              "        vertical-align: top;\n",
              "    }\n",
              "\n",
              "    .dataframe thead th {\n",
              "        text-align: right;\n",
              "    }\n",
              "</style>\n",
              "<table border=\"1\" class=\"dataframe\">\n",
              "  <thead>\n",
              "    <tr style=\"text-align: right;\">\n",
              "      <th></th>\n",
              "      <th>Grant.Status</th>\n",
              "      <th>Sponsor.Code</th>\n",
              "      <th>Grant.Category.Code</th>\n",
              "      <th>RFCD.Code.1</th>\n",
              "      <th>RFCD.Percentage.1</th>\n",
              "      <th>RFCD.Code.2</th>\n",
              "      <th>RFCD.Percentage.2</th>\n",
              "      <th>RFCD.Code.3</th>\n",
              "      <th>RFCD.Percentage.3</th>\n",
              "      <th>SEO.Code.1</th>\n",
              "      <th>...</th>\n",
              "      <th>SEO.Code.2</th>\n",
              "      <th>SEO.Percentage.2</th>\n",
              "      <th>SEO.Code.3</th>\n",
              "      <th>SEO.Percentage.3</th>\n",
              "      <th>SEO.Percentage.5</th>\n",
              "      <th>Person.ID.1</th>\n",
              "      <th>Role.1</th>\n",
              "      <th>Faculty.No..1</th>\n",
              "      <th>Number.of.Successful.Grant.1</th>\n",
              "      <th>Number.of.Unsuccessful.Grant.1</th>\n",
              "    </tr>\n",
              "  </thead>\n",
              "  <tbody>\n",
              "    <tr>\n",
              "      <th>0</th>\n",
              "      <td>1</td>\n",
              "      <td>255</td>\n",
              "      <td>0</td>\n",
              "      <td>280199.0</td>\n",
              "      <td>100.0</td>\n",
              "      <td>0.0</td>\n",
              "      <td>0.0</td>\n",
              "      <td>0.0</td>\n",
              "      <td>0.0</td>\n",
              "      <td>700299.0</td>\n",
              "      <td>...</td>\n",
              "      <td>0.0</td>\n",
              "      <td>0.0</td>\n",
              "      <td>0.0</td>\n",
              "      <td>0.0</td>\n",
              "      <td>0.0</td>\n",
              "      <td>40572.0</td>\n",
              "      <td>0</td>\n",
              "      <td>31.0</td>\n",
              "      <td>0.0</td>\n",
              "      <td>0.0</td>\n",
              "    </tr>\n",
              "    <tr>\n",
              "      <th>1</th>\n",
              "      <td>1</td>\n",
              "      <td>187</td>\n",
              "      <td>0</td>\n",
              "      <td>280103.0</td>\n",
              "      <td>30.0</td>\n",
              "      <td>280106.0</td>\n",
              "      <td>30.0</td>\n",
              "      <td>280203.0</td>\n",
              "      <td>40.0</td>\n",
              "      <td>700103.0</td>\n",
              "      <td>...</td>\n",
              "      <td>700102.0</td>\n",
              "      <td>50.0</td>\n",
              "      <td>0.0</td>\n",
              "      <td>0.0</td>\n",
              "      <td>0.0</td>\n",
              "      <td>9067.0</td>\n",
              "      <td>0</td>\n",
              "      <td>25.0</td>\n",
              "      <td>0.0</td>\n",
              "      <td>0.0</td>\n",
              "    </tr>\n",
              "    <tr>\n",
              "      <th>2</th>\n",
              "      <td>1</td>\n",
              "      <td>186</td>\n",
              "      <td>1</td>\n",
              "      <td>321004.0</td>\n",
              "      <td>60.0</td>\n",
              "      <td>321216.0</td>\n",
              "      <td>40.0</td>\n",
              "      <td>0.0</td>\n",
              "      <td>0.0</td>\n",
              "      <td>730105.0</td>\n",
              "      <td>...</td>\n",
              "      <td>730207.0</td>\n",
              "      <td>40.0</td>\n",
              "      <td>0.0</td>\n",
              "      <td>0.0</td>\n",
              "      <td>0.0</td>\n",
              "      <td>5967.0</td>\n",
              "      <td>0</td>\n",
              "      <td>25.0</td>\n",
              "      <td>0.0</td>\n",
              "      <td>0.0</td>\n",
              "    </tr>\n",
              "    <tr>\n",
              "      <th>3</th>\n",
              "      <td>1</td>\n",
              "      <td>236</td>\n",
              "      <td>1</td>\n",
              "      <td>270602.0</td>\n",
              "      <td>50.0</td>\n",
              "      <td>320602.0</td>\n",
              "      <td>50.0</td>\n",
              "      <td>0.0</td>\n",
              "      <td>0.0</td>\n",
              "      <td>730106.0</td>\n",
              "      <td>...</td>\n",
              "      <td>730201.0</td>\n",
              "      <td>30.0</td>\n",
              "      <td>0.0</td>\n",
              "      <td>0.0</td>\n",
              "      <td>0.0</td>\n",
              "      <td>78782.0</td>\n",
              "      <td>5</td>\n",
              "      <td>25.0</td>\n",
              "      <td>0.0</td>\n",
              "      <td>0.0</td>\n",
              "    </tr>\n",
              "    <tr>\n",
              "      <th>4</th>\n",
              "      <td>0</td>\n",
              "      <td>263</td>\n",
              "      <td>0</td>\n",
              "      <td>260500.0</td>\n",
              "      <td>34.0</td>\n",
              "      <td>280000.0</td>\n",
              "      <td>33.0</td>\n",
              "      <td>290000.0</td>\n",
              "      <td>33.0</td>\n",
              "      <td>770199.0</td>\n",
              "      <td>...</td>\n",
              "      <td>0.0</td>\n",
              "      <td>0.0</td>\n",
              "      <td>0.0</td>\n",
              "      <td>0.0</td>\n",
              "      <td>0.0</td>\n",
              "      <td>13042.0</td>\n",
              "      <td>0</td>\n",
              "      <td>19.0</td>\n",
              "      <td>0.0</td>\n",
              "      <td>0.0</td>\n",
              "    </tr>\n",
              "  </tbody>\n",
              "</table>\n",
              "<p>5 rows × 21 columns</p>\n",
              "</div>\n",
              "      <button class=\"colab-df-convert\" onclick=\"convertToInteractive('df-c2a8f30a-6267-4411-9307-7084d063a804')\"\n",
              "              title=\"Convert this dataframe to an interactive table.\"\n",
              "              style=\"display:none;\">\n",
              "        \n",
              "  <svg xmlns=\"http://www.w3.org/2000/svg\" height=\"24px\"viewBox=\"0 0 24 24\"\n",
              "       width=\"24px\">\n",
              "    <path d=\"M0 0h24v24H0V0z\" fill=\"none\"/>\n",
              "    <path d=\"M18.56 5.44l.94 2.06.94-2.06 2.06-.94-2.06-.94-.94-2.06-.94 2.06-2.06.94zm-11 1L8.5 8.5l.94-2.06 2.06-.94-2.06-.94L8.5 2.5l-.94 2.06-2.06.94zm10 10l.94 2.06.94-2.06 2.06-.94-2.06-.94-.94-2.06-.94 2.06-2.06.94z\"/><path d=\"M17.41 7.96l-1.37-1.37c-.4-.4-.92-.59-1.43-.59-.52 0-1.04.2-1.43.59L10.3 9.45l-7.72 7.72c-.78.78-.78 2.05 0 2.83L4 21.41c.39.39.9.59 1.41.59.51 0 1.02-.2 1.41-.59l7.78-7.78 2.81-2.81c.8-.78.8-2.07 0-2.86zM5.41 20L4 18.59l7.72-7.72 1.47 1.35L5.41 20z\"/>\n",
              "  </svg>\n",
              "      </button>\n",
              "      \n",
              "  <style>\n",
              "    .colab-df-container {\n",
              "      display:flex;\n",
              "      flex-wrap:wrap;\n",
              "      gap: 12px;\n",
              "    }\n",
              "\n",
              "    .colab-df-convert {\n",
              "      background-color: #E8F0FE;\n",
              "      border: none;\n",
              "      border-radius: 50%;\n",
              "      cursor: pointer;\n",
              "      display: none;\n",
              "      fill: #1967D2;\n",
              "      height: 32px;\n",
              "      padding: 0 0 0 0;\n",
              "      width: 32px;\n",
              "    }\n",
              "\n",
              "    .colab-df-convert:hover {\n",
              "      background-color: #E2EBFA;\n",
              "      box-shadow: 0px 1px 2px rgba(60, 64, 67, 0.3), 0px 1px 3px 1px rgba(60, 64, 67, 0.15);\n",
              "      fill: #174EA6;\n",
              "    }\n",
              "\n",
              "    [theme=dark] .colab-df-convert {\n",
              "      background-color: #3B4455;\n",
              "      fill: #D2E3FC;\n",
              "    }\n",
              "\n",
              "    [theme=dark] .colab-df-convert:hover {\n",
              "      background-color: #434B5C;\n",
              "      box-shadow: 0px 1px 3px 1px rgba(0, 0, 0, 0.15);\n",
              "      filter: drop-shadow(0px 1px 2px rgba(0, 0, 0, 0.3));\n",
              "      fill: #FFFFFF;\n",
              "    }\n",
              "  </style>\n",
              "\n",
              "      <script>\n",
              "        const buttonEl =\n",
              "          document.querySelector('#df-c2a8f30a-6267-4411-9307-7084d063a804 button.colab-df-convert');\n",
              "        buttonEl.style.display =\n",
              "          google.colab.kernel.accessAllowed ? 'block' : 'none';\n",
              "\n",
              "        async function convertToInteractive(key) {\n",
              "          const element = document.querySelector('#df-c2a8f30a-6267-4411-9307-7084d063a804');\n",
              "          const dataTable =\n",
              "            await google.colab.kernel.invokeFunction('convertToInteractive',\n",
              "                                                     [key], {});\n",
              "          if (!dataTable) return;\n",
              "\n",
              "          const docLinkHtml = 'Like what you see? Visit the ' +\n",
              "            '<a target=\"_blank\" href=https://colab.research.google.com/notebooks/data_table.ipynb>data table notebook</a>'\n",
              "            + ' to learn more about interactive tables.';\n",
              "          element.innerHTML = '';\n",
              "          dataTable['output_type'] = 'display_data';\n",
              "          await google.colab.output.renderOutput(dataTable, element);\n",
              "          const docLink = document.createElement('div');\n",
              "          docLink.innerHTML = docLinkHtml;\n",
              "          element.appendChild(docLink);\n",
              "        }\n",
              "      </script>\n",
              "    </div>\n",
              "  </div>\n",
              "  "
            ]
          },
          "metadata": {},
          "execution_count": 36
        }
      ]
    },
    {
      "cell_type": "code",
      "source": [
        "df['Sponsor.Code'].describe()"
      ],
      "metadata": {
        "colab": {
          "base_uri": "https://localhost:8080/"
        },
        "id": "Lcdoms_fxY-F",
        "outputId": "3315b657-fb02-4cf1-fa77-fe76efdc267d"
      },
      "execution_count": null,
      "outputs": [
        {
          "output_type": "execute_result",
          "data": {
            "text/plain": [
              "count    8708.000000\n",
              "mean      201.401700\n",
              "std        69.047989\n",
              "min         0.000000\n",
              "25%       186.000000\n",
              "50%       222.000000\n",
              "75%       255.000000\n",
              "max       296.000000\n",
              "Name: Sponsor.Code, dtype: float64"
            ]
          },
          "metadata": {},
          "execution_count": 37
        }
      ]
    },
    {
      "cell_type": "code",
      "source": [
        "df['Grant.Status'].value_counts()"
      ],
      "metadata": {
        "colab": {
          "base_uri": "https://localhost:8080/"
        },
        "id": "40lgKv5Cxknl",
        "outputId": "7dbd1e93-9809-4cea-ca14-462807bb590f"
      },
      "execution_count": null,
      "outputs": [
        {
          "output_type": "execute_result",
          "data": {
            "text/plain": [
              "0    4716\n",
              "1    3992\n",
              "Name: Grant.Status, dtype: int64"
            ]
          },
          "metadata": {},
          "execution_count": 38
        }
      ]
    },
    {
      "cell_type": "code",
      "source": [
        "df['Grant.Category.Code'].describe()"
      ],
      "metadata": {
        "colab": {
          "base_uri": "https://localhost:8080/"
        },
        "id": "OGQsT7hFxwOt",
        "outputId": "f9a8c461-e818-4881-d8b6-591d1ce234ff"
      },
      "execution_count": null,
      "outputs": [
        {
          "output_type": "execute_result",
          "data": {
            "text/plain": [
              "count    8708.000000\n",
              "mean        2.741387\n",
              "std         3.951463\n",
              "min         0.000000\n",
              "25%         0.000000\n",
              "50%         0.000000\n",
              "75%         5.000000\n",
              "max        12.000000\n",
              "Name: Grant.Category.Code, dtype: float64"
            ]
          },
          "metadata": {},
          "execution_count": 39
        }
      ]
    },
    {
      "cell_type": "code",
      "source": [
        "df['Role.1'].describe()"
      ],
      "metadata": {
        "colab": {
          "base_uri": "https://localhost:8080/"
        },
        "id": "GpUy7KKqyLIm",
        "outputId": "64c35dae-4610-4ade-b8ef-74e2a8597f0b"
      },
      "execution_count": null,
      "outputs": [
        {
          "output_type": "execute_result",
          "data": {
            "text/plain": [
              "count    8708.000000\n",
              "mean        0.357373\n",
              "std         1.153333\n",
              "min         0.000000\n",
              "25%         0.000000\n",
              "50%         0.000000\n",
              "75%         0.000000\n",
              "max         6.000000\n",
              "Name: Role.1, dtype: float64"
            ]
          },
          "metadata": {},
          "execution_count": 40
        }
      ]
    },
    {
      "cell_type": "code",
      "source": [
        "count_classes = pd.value_counts(df['Grant.Status'], sort = True)\n",
        "\n",
        "count_classes.plot(kind = 'bar', rot=0)\n",
        "\n",
        "plt.title(\"Grant Class Distribution\")\n",
        "\n",
        "LABELS=['Unsuccessful','Successful']\n",
        "\n",
        "plt.xticks(range(2), LABELS)\n",
        "\n",
        "plt.xlabel(\"Grant Status\")\n",
        "\n",
        "plt.ylabel(\"Frequency\")\n",
        "\n",
        "Successful = df[df['Grant.Status']==1]\n",
        "\n",
        "Unsuccessful = df[df['Grant.Status']==0]\n",
        "\n",
        "print(Successful.shape,Unsuccessful.shape)"
      ],
      "metadata": {
        "colab": {
          "base_uri": "https://localhost:8080/",
          "height": 312
        },
        "id": "5eggFnHkyNbq",
        "outputId": "7777353d-94dc-48fa-aee4-3bd446b4ee9d"
      },
      "execution_count": null,
      "outputs": [
        {
          "output_type": "stream",
          "name": "stdout",
          "text": [
            "(3992, 21) (4716, 21)\n"
          ]
        },
        {
          "output_type": "display_data",
          "data": {
            "text/plain": [
              "<Figure size 432x288 with 1 Axes>"
            ],
            "image/png": "[encoded data removed]"
          },
          "metadata": {
            "needs_background": "light"
          }
        }
      ]
    },
    {
      "cell_type": "code",
      "source": [
        "## Correlation\n",
        "#get correlations of each features in dataset\n",
        "corrmat = df.corr()\n",
        "top_corr_features = corrmat.index\n",
        "plt.figure(figsize=(30,30))\n",
        "#plot heat map\n",
        "g=sns.heatmap(df[top_corr_features].corr(),annot=True,cmap=\"RdYlGn\")"
      ],
      "metadata": {
        "colab": {
          "base_uri": "https://localhost:8080/",
          "height": 1000
        },
        "id": "M4Q6DWaP7P_o",
        "outputId": "df0d130a-8138-432a-a6bd-96e693eb4b6b"
      },
      "execution_count": null,
      "outputs": [
        {
          "output_type": "display_data",
          "data": {
            "text/plain": [
              "<Figure size 2160x2160 with 2 Axes>"
            ],
            "image/png": "[encoded data removed]"
          },
          "metadata": {
            "needs_background": "light"
          }
        }
      ]
    },
    {
      "cell_type": "code",
      "source": [
        "plt.scatter(df['RFCD.Percentage.1'],df['RFCD.Code.1'])\n",
        "plt.rcParams.update({'figure.figsize':(10,8), 'figure.dpi':100})\n",
        "plt.title('Scatter plot')\n",
        "plt.xlabel('RFCD.Percentage.1')\n",
        "plt.ylabel('RFCD.Code.1')\n",
        "plt.show()"
      ],
      "metadata": {
        "colab": {
          "base_uri": "https://localhost:8080/",
          "height": 295
        },
        "id": "BL1u2JWo7fW4",
        "outputId": "c34bf3b8-9cbc-40d1-b32b-5e76e0e64cb4"
      },
      "execution_count": null,
      "outputs": [
        {
          "output_type": "display_data",
          "data": {
            "text/plain": [
              "<Figure size 432x288 with 1 Axes>"
            ],
            "image/png": "[encoded data removed]"
          },
          "metadata": {
            "needs_background": "light"
          }
        }
      ]
    },
    {
      "cell_type": "code",
      "source": [
        "plt.scatter(df['SEO.Percentage.2'],df['SEO.Code.2'])\n",
        "plt.rcParams.update({'figure.figsize':(10,8), 'figure.dpi':100})\n",
        "plt.title('Scatter plot')\n",
        "plt.xlabel('SEO.Percentage.2')\n",
        "plt.ylabel('SEO.Code.2')\n",
        "plt.show()"
      ],
      "metadata": {
        "colab": {
          "base_uri": "https://localhost:8080/",
          "height": 706
        },
        "id": "ThVDRylCgHdU",
        "outputId": "42dedde7-cdcb-4530-ed96-dd8ef8777b94"
      },
      "execution_count": null,
      "outputs": [
        {
          "output_type": "display_data",
          "data": {
            "text/plain": [
              "<Figure size 1000x800 with 1 Axes>"
            ],
            "image/png": "[encoded data removed]"
          },
          "metadata": {
            "needs_background": "light"
          }
        }
      ]
    },
    {
      "cell_type": "code",
      "source": [
        "y = df['Grant.Status']\n",
        "X = df.drop(['Grant.Status'], axis=1)"
      ],
      "metadata": {
        "id": "XlhTobWd7jqN"
      },
      "execution_count": null,
      "outputs": []
    },
    {
      "cell_type": "code",
      "source": [
        "## Split data to train and test set\n",
        "\n",
        "from sklearn.model_selection import train_test_split\n",
        "\n",
        "X_train, X_test, y_train, y_test = train_test_split(X, y, test_size=0.2)"
      ],
      "metadata": {
        "id": "wDv0lN517qfX"
      },
      "execution_count": null,
      "outputs": []
    },
    {
      "cell_type": "code",
      "source": [
        "X_train.shape,X_test.shape,y_train.shape,y_test.shape"
      ],
      "metadata": {
        "colab": {
          "base_uri": "https://localhost:8080/"
        },
        "id": "b57ZK9ajF3qs",
        "outputId": "c4811650-7296-46c7-aa7e-aafcff1b864b"
      },
      "execution_count": null,
      "outputs": [
        {
          "output_type": "execute_result",
          "data": {
            "text/plain": [
              "((6966, 20), (1742, 20), (6966,), (1742,))"
            ]
          },
          "metadata": {},
          "execution_count": 47
        }
      ]
    },
    {
      "cell_type": "code",
      "source": [
        "from sklearn.preprocessing import StandardScaler\n",
        "sc = StandardScaler()\n",
        "X_train = sc.fit_transform(X_train)\n",
        "X_test = sc.transform(X_test)"
      ],
      "metadata": {
        "id": "q4ibUmh37tPV"
      },
      "execution_count": null,
      "outputs": []
    },
    {
      "cell_type": "code",
      "source": [
        "from sklearn.naive_bayes import GaussianNB\n",
        "classifier = GaussianNB()\n",
        "classifier.fit(X_train, y_train)\n",
        "classifier.score(X_test,y_test)"
      ],
      "metadata": {
        "colab": {
          "base_uri": "https://localhost:8080/"
        },
        "id": "OR4VesyA7vqd",
        "outputId": "a0832fcf-3e86-4d01-de53-d02aa881eb54"
      },
      "execution_count": null,
      "outputs": [
        {
          "output_type": "execute_result",
          "data": {
            "text/plain": [
              "0.5878300803673938"
            ]
          },
          "metadata": {},
          "execution_count": 49
        }
      ]
    },
    {
      "cell_type": "code",
      "source": [
        "y_pred  =  classifier.predict(X_test)"
      ],
      "metadata": {
        "id": "oAKsUh8I7yHf"
      },
      "execution_count": null,
      "outputs": []
    },
    {
      "cell_type": "code",
      "source": [
        "cm = confusion_matrix(y_test, y_pred)\n",
        "ac = accuracy_score(y_test,y_pred)\n",
        "cr=classification_report(y_test,y_pred)"
      ],
      "metadata": {
        "id": "tjhHAbrl74XQ"
      },
      "execution_count": null,
      "outputs": []
    },
    {
      "cell_type": "code",
      "source": [
        "ac"
      ],
      "metadata": {
        "id": "LgEL3eH4moMw",
        "outputId": "014e98e7-53db-4d6b-cb2e-6ff17d7397c9",
        "colab": {
          "base_uri": "https://localhost:8080/"
        }
      },
      "execution_count": null,
      "outputs": [
        {
          "output_type": "execute_result",
          "data": {
            "text/plain": [
              "0.5878300803673938"
            ]
          },
          "metadata": {},
          "execution_count": 52
        }
      ]
    },
    {
      "cell_type": "code",
      "source": [
        "print(cm)\n",
        "print('accuracy =',ac)\n",
        "print(cr)"
      ],
      "metadata": {
        "colab": {
          "base_uri": "https://localhost:8080/"
        },
        "id": "pTbWyWL-76gK",
        "outputId": "8c8a7ea1-3de3-41c0-9f81-6c8630c60a16"
      },
      "execution_count": null,
      "outputs": [
        {
          "output_type": "stream",
          "name": "stdout",
          "text": [
            "[[529 452]\n",
            " [266 495]]\n",
            "accuracy = 0.5878300803673938\n",
            "              precision    recall  f1-score   support\n",
            "\n",
            "           0       0.67      0.54      0.60       981\n",
            "           1       0.52      0.65      0.58       761\n",
            "\n",
            "    accuracy                           0.59      1742\n",
            "   macro avg       0.59      0.59      0.59      1742\n",
            "weighted avg       0.60      0.59      0.59      1742\n",
            "\n"
          ]
        }
      ]
    },
    {
      "cell_type": "code",
      "source": [
        "ax = sns.heatmap(cm, annot=True, cmap='Blues')\n",
        "\n",
        "ax.set_title(' Confusion Matrix with labels\\n\\n');\n",
        "ax.set_xlabel('\\nPredicted Values')\n",
        "ax.set_ylabel('Actual Values ');\n",
        "\n",
        "## Ticket labels - List must be in alphabetical order\n",
        "ax.xaxis.set_ticklabels(['False','True'])\n",
        "ax.yaxis.set_ticklabels(['False','True'])\n",
        "\n",
        "## Display the visualization of the Confusion Matrix.\n",
        "plt.show()"
      ],
      "metadata": {
        "colab": {
          "base_uri": "https://localhost:8080/",
          "height": 764
        },
        "id": "qpMDkKl-78vH",
        "outputId": "3f6496e8-f8ab-4a87-de98-58a30c91a3c5"
      },
      "execution_count": null,
      "outputs": [
        {
          "output_type": "display_data",
          "data": {
            "text/plain": [
              "<Figure size 1000x800 with 2 Axes>"
            ],
            "image/png": "[encoded data removed]"
          },
          "metadata": {
            "needs_background": "light"
          }
        }
      ]
    },
    {
      "cell_type": "code",
      "source": [
        "from sklearn.metrics import mean_squared_error\n",
        "\n",
        "def rmsle(y, y_pred):\n",
        "    return np.sqrt(mean_squared_error(y, y_pred))"
      ],
      "metadata": {
        "id": "Ra7C-424O8ek"
      },
      "execution_count": null,
      "outputs": []
    },
    {
      "cell_type": "code",
      "source": [
        "from sklearn.linear_model import LogisticRegression\n",
        "lr=LogisticRegression()\n",
        "lr.fit(X_train,y_train)\n",
        "lr.score(X_test,y_test)"
      ],
      "metadata": {
        "colab": {
          "base_uri": "https://localhost:8080/"
        },
        "id": "XdIVMxsbTkjV",
        "outputId": "9957e386-ea4a-4d36-a4ad-fc7eca41663e"
      },
      "execution_count": null,
      "outputs": [
        {
          "output_type": "execute_result",
          "data": {
            "text/plain": [
              "0.7210103329506314"
            ]
          },
          "metadata": {},
          "execution_count": 56
        }
      ]
    },
    {
      "cell_type": "code",
      "source": [
        "from sklearn.ensemble import RandomForestClassifier,GradientBoostingClassifier\n",
        "\n",
        "model = RandomForestClassifier(n_estimators=5000, max_depth=5, random_state=0)\n",
        "model.fit(X_train, y_train)\n",
        "random_forest_Pred = model.predict(X_test)\n",
        "\n",
        "print(rmsle(y_test, random_forest_Pred))"
      ],
      "metadata": {
        "colab": {
          "base_uri": "https://localhost:8080/"
        },
        "id": "mncudcxiUDpq",
        "outputId": "f7695c01-dfc1-48fa-e0b2-c2f307fad257"
      },
      "execution_count": null,
      "outputs": [
        {
          "output_type": "stream",
          "name": "stdout",
          "text": [
            "0.49160577113531495\n"
          ]
        }
      ]
    },
    {
      "cell_type": "code",
      "source": [
        "grad_boost = GradientBoostingClassifier(n_estimators=1000)\n",
        "grad_boost.fit(X_train, y_train)\n",
        "Y_pred = grad_boost.predict(X_test)\n",
        "\n",
        "print(rmsle(y_test, Y_pred))"
      ],
      "metadata": {
        "colab": {
          "base_uri": "https://localhost:8080/"
        },
        "id": "AOnqOu-3UKFM",
        "outputId": "e3ab448b-dfbb-4415-a3a4-daf423202b68"
      },
      "execution_count": null,
      "outputs": [
        {
          "output_type": "stream",
          "name": "stdout",
          "text": [
            "0.4707275069118972\n"
          ]
        }
      ]
    },
    {
      "cell_type": "code",
      "source": [
        "from sklearn.svm import SVC\n",
        "\n",
        "svc = SVC()\n",
        "svc.fit(X_train, y_train)\n",
        "Y_pred_3 = svc.predict(X_test)\n",
        "\n",
        "print(rmsle(y_test, Y_pred_3))"
      ],
      "metadata": {
        "colab": {
          "base_uri": "https://localhost:8080/"
        },
        "id": "nHBnnhsGUY8P",
        "outputId": "2afa1a56-a138-4d48-e3f5-660470e94964"
      },
      "execution_count": null,
      "outputs": [
        {
          "output_type": "stream",
          "name": "stdout",
          "text": [
            "0.5105095268825915\n"
          ]
        }
      ]
    },
    {
      "cell_type": "code",
      "source": [
        "from sklearn.neighbors import KNeighborsClassifier\n",
        "\n",
        "neigh = KNeighborsClassifier(n_neighbors=3)\n",
        "neigh.fit(X_train, y_train)\n",
        "Y_pred_2 = neigh.predict(X_test)\n",
        "\n",
        "print(rmsle(y_test, Y_pred_2))"
      ],
      "metadata": {
        "colab": {
          "base_uri": "https://localhost:8080/"
        },
        "id": "bZR2JH3mUq2r",
        "outputId": "dbd82129-cbec-4356-84fe-0b9e3ed0f4f6"
      },
      "execution_count": null,
      "outputs": [
        {
          "output_type": "stream",
          "name": "stdout",
          "text": [
            "0.5795005569646918\n"
          ]
        }
      ]
    },
    {
      "cell_type": "code",
      "source": [
        "from sklearn.model_selection import KFold\n",
        "model=GaussianNB()\n",
        "kfold_validation=KFold(10)"
      ],
      "metadata": {
        "id": "ZJFRmsl-VF7Q"
      },
      "execution_count": null,
      "outputs": []
    },
    {
      "cell_type": "code",
      "source": [
        "from sklearn.model_selection import cross_val_score\n",
        "results=cross_val_score(model,X,y,cv=kfold_validation)\n",
        "print(results)\n",
        "print(np.mean(results))"
      ],
      "metadata": {
        "colab": {
          "base_uri": "https://localhost:8080/"
        },
        "id": "k9adg_TwNPUg",
        "outputId": "f1b24fe2-3966-468d-a393-1a2ed6f57f47"
      },
      "execution_count": null,
      "outputs": [
        {
          "output_type": "stream",
          "name": "stdout",
          "text": [
            "[0.50861079 0.47072331 0.50861079 0.57405281 0.55912744 0.53386912\n",
            " 0.59357061 0.5510907  0.54827586 0.54022989]\n",
            "0.5388161315438722\n"
          ]
        }
      ]
    },
    {
      "cell_type": "code",
      "source": [
        ""
      ],
      "metadata": {
        "id": "Kw20LvCBW4NM"
      },
      "execution_count": null,
      "outputs": []
    }
  ]
}